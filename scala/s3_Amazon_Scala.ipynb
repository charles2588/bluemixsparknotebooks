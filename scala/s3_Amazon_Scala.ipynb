{
    "nbformat": 4, 
    "nbformat_minor": 1, 
    "cells": [
        {
            "execution_count": 1, 
            "metadata": {
                "collapsed": true
            }, 
            "outputs": [], 
            "cell_type": "code", 
            "source": "import org.apache.spark.sql.SparkSession\n\nval spark = SparkSession.\n    builder().\n    getOrCreate()"
        }, 
        {
            "execution_count": 3, 
            "metadata": {}, 
            "outputs": [], 
            "cell_type": "code", 
            "source": "import org.apache.spark.sql.SparkSession\n\nval spark = SparkSession.\n    builder().\n    getOrCreate()\nval hconf = spark.sparkContext.hadoopConfiguration\nhconf.set(\"fs.s3a.access.key\", \"XXXXX\")  \nhconf.set(\"fs.s3a.secret.key\", \"XXXXXXX\")  "
        }, 
        {
            "execution_count": 4, 
            "metadata": {}, 
            "outputs": [
                {
                    "text": "[Stage 2:=============================>                             (1 + 1) / 2]+-----+-----+\n|   id| name|\n+-----+-----+\n|10001| Tony|\n|10002| Mike|\n|10003|  Pat|\n|10004|Chris|\n|10005| Paco|\n+-----+-----+\nonly showing top 5 rows\n\n", 
                    "name": "stdout", 
                    "output_type": "stream"
                }
            ], 
            "cell_type": "code", 
            "source": "val dfData1 = spark.\n    read.format(\"org.apache.spark.sql.execution.datasources.csv.CSVFileFormat\").\n    option(\"header\", \"true\").\n    option(\"inferSchema\", \"true\").\n    load(\"s3a://charlesbuckets31/users.csv\")\ndfData1.show(5)\n"
        }, 
        {
            "execution_count": null, 
            "metadata": {
                "collapsed": true
            }, 
            "outputs": [], 
            "cell_type": "code", 
            "source": ""
        }
    ], 
    "metadata": {
        "language_info": {
            "name": "python", 
            "nbconvert_exporter": "python", 
            "file_extension": ".py", 
            "pygments_lexer": "ipython3", 
            "codemirror_mode": {
                "name": "ipython", 
                "version": 3
            }, 
            "mimetype": "text/x-python", 
            "version": "3.5.2"
        }, 
        "kernelspec": {
            "language": "python", 
            "display_name": "Python 3.5 (Experimental) with Spark 2.0", 
            "name": "python3-spark20"
        }
    }
}