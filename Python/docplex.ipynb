{
    "nbformat_minor": 1, 
    "cells": [
        {
            "outputs": [
                {
                    "output_type": "stream", 
                    "name": "stdout", 
                    "text": "Collecting docloud\n  Downloading docloud-1.0.257.tar.gz\nRequirement already satisfied: requests in /usr/local/src/bluemix_jupyter_bundle.v59/notebook/lib/python2.7/site-packages (from docloud)\nRequirement already satisfied: six in /usr/local/src/bluemix_jupyter_bundle.v59/notebook/lib/python2.7/site-packages (from docloud)\nRequirement already satisfied: enum34 in /usr/local/src/bluemix_jupyter_bundle.v59/notebook/lib/python2.7/site-packages (from docloud)\nBuilding wheels for collected packages: docloud\n  Running setup.py bdist_wheel for docloud ... \u001b[?25ldone\n\u001b[?25h  Stored in directory: /gpfs/fs01/user/sf08-c5ea89147937e8-2c631c8ff999/.cache/pip/wheels/44/6a/64/6dd62d3d93b8d07d1bb79f054e8d28b38930f6fb5deb2f28dd\nSuccessfully built docloud\nInstalling collected packages: docloud\nSuccessfully installed docloud-1.0.257\n"
                }
            ], 
            "cell_type": "code", 
            "metadata": {}, 
            "source": "!pip install docloud ", 
            "execution_count": 1
        }, 
        {
            "outputs": [], 
            "cell_type": "code", 
            "metadata": {
                "collapsed": true
            }, 
            "source": "import docloud", 
            "execution_count": 2
        }, 
        {
            "outputs": [], 
            "cell_type": "code", 
            "metadata": {}, 
            "source": "baseurl = \"https://api-oaas.docloud.ibmcloud.com/job_manager/rest/v1\" # url from service credential\napikey = \"bm_api_ext_4ea008b2-687d-4ce4-8b0a-712f0ed680e1\" #client_id from service credential", 
            "execution_count": 4
        }, 
        {
            "outputs": [], 
            "cell_type": "code", 
            "metadata": {
                "collapsed": true
            }, 
            "source": "from docloud.job import JobClient", 
            "execution_count": 5
        }, 
        {
            "outputs": [
                {
                    "output_type": "stream", 
                    "name": "stdout", 
                    "text": "Cloning into 'DOcloud-Python-client-samples'...\nremote: Counting objects: 27, done.\u001b[K\nremote: Total 27 (delta 0), reused 0 (delta 0), pack-reused 27\u001b[K\nUnpacking objects: 100% (27/27), done.\n"
                }
            ], 
            "cell_type": "code", 
            "metadata": {}, 
            "source": "!git clone https://github.com/IBMDecisionOptimization/DOcloud-Python-client-samples.git ", 
            "execution_count": 6
        }, 
        {
            "outputs": [], 
            "cell_type": "code", 
            "metadata": {
                "collapsed": true
            }, 
            "source": "client = JobClient(baseurl, apikey)\n    \nresp = client.execute(input = [ \"DOcloud-Python-client-samples/examples/models/truck.dat\",\n                                    \"DOcloud-Python-client-samples/examples/models/truck.mod\"],\n                          output = \"results.json\")", 
            "execution_count": 7
        }, 
        {
            "outputs": [
                {
                    "output_type": "stream", 
                    "name": "stdout", 
                    "text": "{\r\n  \"Result\" : {\r\n    \"totalCost\" : 29750.0\r\n  },\r\n  \"OutBoundAggregated\" : [ {\r\n    \"spoke\" : \"A\",\r\n    \"hub\" : \"H\",\r\n    \"truckType\" : \"BigTruck\",\r\n    \"quantity\" : 727\r\n  }, {\r\n    \"spoke\" : \"B\",\r\n    \"hub\" : \"H\",\r\n    \"truckType\" : \"SmallTruck\",\r\n    \"quantity\" : 304\r\n  }, {\r\n    \"spoke\" : \"B\",\r\n    \"hub\" : \"H\",\r\n    \"truckType\" : \"BigTruck\",\r\n    \"quantity\" : 700\r\n  }, {\r\n    \"spoke\" : \"C\",\r\n    \"hub\" : \"H\",\r\n    \"truckType\" : \"SmallTruck\",\r\n    \"quantity\" : 308\r\n  }, {\r\n    \"spoke\" : \"C\",\r\n    \"hub\" : \"H\",\r\n    \"truckType\" : \"BigTruck\",\r\n    \"quantity\" : 699\r\n  }, {\r\n    \"spoke\" : \"D\",\r\n    \"hub\" : \"H\",\r\n    \"truckType\" : \"SmallTruck\",\r\n    \"quantity\" : 1119\r\n  }, {\r\n    \"spoke\" : \"E\",\r\n    \"hub\" : \"H\",\r\n    \"truckType\" : \"SmallTruck\",\r\n    \"quantity\" : 400\r\n  }, {\r\n    \"spoke\" : \"E\",\r\n    \"hub\" : \"H\",\r\n    \"truckType\" : \"BigTruck\",\r\n    \"quantity\" : 616\r\n  }, {\r\n    \"spoke\" : \"F\",\r\n    \"hub\" : \"H\",\r\n    \"truckType\" : \"SmallTruck\",\r\n    \"quantity\" : 166\r\n  }, {\r\n    \"spoke\" : \"F\",\r\n    \"hub\" : \"H\",\r\n    \"truckType\" : \"BigTruck\",\r\n    \"quantity\" : 699\r\n  } ],\r\n  \"InBoundAggregated\" : [ {\r\n    \"spoke\" : \"A\",\r\n    \"hub\" : \"H\",\r\n    \"truckType\" : \"BigTruck\",\r\n    \"quantity\" : 1345\r\n  }, {\r\n    \"spoke\" : \"B\",\r\n    \"hub\" : \"H\",\r\n    \"truckType\" : \"SmallTruck\",\r\n    \"quantity\" : 366\r\n  }, {\r\n    \"spoke\" : \"B\",\r\n    \"hub\" : \"H\",\r\n    \"truckType\" : \"BigTruck\",\r\n    \"quantity\" : 700\r\n  }, {\r\n    \"spoke\" : \"C\",\r\n    \"hub\" : \"H\",\r\n    \"truckType\" : \"SmallTruck\",\r\n    \"quantity\" : 206\r\n  }, {\r\n    \"spoke\" : \"C\",\r\n    \"hub\" : \"H\",\r\n    \"truckType\" : \"BigTruck\",\r\n    \"quantity\" : 700\r\n  }, {\r\n    \"spoke\" : \"D\",\r\n    \"hub\" : \"H\",\r\n    \"truckType\" : \"SmallTruck\",\r\n    \"quantity\" : 893\r\n  }, {\r\n    \"spoke\" : \"E\",\r\n    \"hub\" : \"H\",\r\n    \"truckType\" : \"SmallTruck\",\r\n    \"quantity\" : 78\r\n  }, {\r\n    \"spoke\" : \"E\",\r\n    \"hub\" : \"H\",\r\n    \"truckType\" : \"BigTruck\",\r\n    \"quantity\" : 607\r\n  }, {\r\n    \"spoke\" : \"F\",\r\n    \"hub\" : \"H\",\r\n    \"truckType\" : \"SmallTruck\",\r\n    \"quantity\" : 143\r\n  }, {\r\n    \"spoke\" : \"F\",\r\n    \"hub\" : \"H\",\r\n    \"truckType\" : \"BigTruck\",\r\n    \"quantity\" : 700\r\n  } ],\r\n  \"NbTrucksOnRouteRes\" : [ {\r\n    \"spoke\" : \"A\",\r\n    \"hub\" : \"H\",\r\n    \"truckType\" : \"BigTruck\",\r\n    \"nbTruck\" : 2\r\n  }, {\r\n    \"spoke\" : \"B\",\r\n    \"hub\" : \"H\",\r\n    \"truckType\" : \"SmallTruck\",\r\n    \"nbTruck\" : 1\r\n  }, {\r\n    \"spoke\" : \"B\",\r\n    \"hub\" : \"H\",\r\n    \"truckType\" : \"BigTruck\",\r\n    \"nbTruck\" : 1\r\n  }, {\r\n    \"spoke\" : \"C\",\r\n    \"hub\" : \"H\",\r\n    \"truckType\" : \"SmallTruck\",\r\n    \"nbTruck\" : 1\r\n  }, {\r\n    \"spoke\" : \"C\",\r\n    \"hub\" : \"H\",\r\n    \"truckType\" : \"BigTruck\",\r\n    \"nbTruck\" : 1\r\n  }, {\r\n    \"spoke\" : \"D\",\r\n    \"hub\" : \"H\",\r\n    \"truckType\" : \"SmallTruck\",\r\n    \"nbTruck\" : 3\r\n  }, {\r\n    \"spoke\" : \"E\",\r\n    \"hub\" : \"H\",\r\n    \"truckType\" : \"SmallTruck\",\r\n    \"nbTruck\" : 1\r\n  }, {\r\n    \"spoke\" : \"E\",\r\n    \"hub\" : \"H\",\r\n    \"truckType\" : \"BigTruck\",\r\n    \"nbTruck\" : 1\r\n  }, {\r\n    \"spoke\" : \"F\",\r\n    \"hub\" : \"H\",\r\n    \"truckType\" : \"SmallTruck\",\r\n    \"nbTruck\" : 1\r\n  }, {\r\n    \"spoke\" : \"F\",\r\n    \"hub\" : \"H\",\r\n    \"truckType\" : \"BigTruck\",\r\n    \"nbTruck\" : 1\r\n  } ],\r\n  \"InVolumeThroughHubOnTruckRes\" : [ {\r\n    \"origin\" : \"A\",\r\n    \"hub\" : \"H\",\r\n    \"destination\" : \"B\",\r\n    \"truckType\" : \"BigTruck\",\r\n    \"quantity\" : 300\r\n  }, {\r\n    \"origin\" : \"A\",\r\n    \"hub\" : \"H\",\r\n    \"destination\" : \"C\",\r\n    \"truckType\" : \"BigTruck\",\r\n    \"quantity\" : 250\r\n  }, {\r\n    \"origin\" : \"A\",\r\n    \"hub\" : \"H\",\r\n    \"destination\" : \"D\",\r\n    \"truckType\" : \"BigTruck\",\r\n    \"quantity\" : 350\r\n  }, {\r\n    \"origin\" : \"A\",\r\n    \"hub\" : \"H\",\r\n    \"destination\" : \"E\",\r\n    \"truckType\" : \"BigTruck\",\r\n    \"quantity\" : 145\r\n  }, {\r\n    \"origin\" : \"A\",\r\n    \"hub\" : \"H\",\r\n    \"destination\" : \"F\",\r\n    \"truckType\" : \"BigTruck\",\r\n    \"quantity\" : 300\r\n  }, {\r\n    \"origin\" : \"B\",\r\n    \"hub\" : \"H\",\r\n    \"destination\" : \"A\",\r\n    \"truckType\" : \"BigTruck\",\r\n    \"quantity\" : 185\r\n  }, {\r\n    \"origin\" : \"B\",\r\n    \"hub\" : \"H\",\r\n    \"destination\" : \"C\",\r\n    \"truckType\" : \"SmallTruck\",\r\n    \"quantity\" : 200\r\n  }, {\r\n    \"origin\" : \"B\",\r\n    \"hub\" : \"H\",\r\n    \"destination\" : \"D\",\r\n    \"truckType\" : \"SmallTruck\",\r\n    \"quantity\" : 24\r\n  }, {\r\n    \"origin\" : \"B\",\r\n    \"hub\" : \"H\",\r\n    \"destination\" : \"D\",\r\n    \"truckType\" : \"BigTruck\",\r\n    \"quantity\" : 197\r\n  }, {\r\n    \"origin\" : \"B\",\r\n    \"hub\" : \"H\",\r\n    \"destination\" : \"E\",\r\n    \"truckType\" : \"BigTruck\",\r\n    \"quantity\" : 263\r\n  }, {\r\n    \"origin\" : \"B\",\r\n    \"hub\" : \"H\",\r\n    \"destination\" : \"F\",\r\n    \"truckType\" : \"SmallTruck\",\r\n    \"quantity\" : 142\r\n  }, {\r\n    \"origin\" : \"B\",\r\n    \"hub\" : \"H\",\r\n    \"destination\" : \"F\",\r\n    \"truckType\" : \"BigTruck\",\r\n    \"quantity\" : 55\r\n  }, {\r\n    \"origin\" : \"C\",\r\n    \"hub\" : \"H\",\r\n    \"destination\" : \"A\",\r\n    \"truckType\" : \"BigTruck\",\r\n    \"quantity\" : 143\r\n  }, {\r\n    \"origin\" : \"C\",\r\n    \"hub\" : \"H\",\r\n    \"destination\" : \"B\",\r\n    \"truckType\" : \"BigTruck\",\r\n    \"quantity\" : 178\r\n  }, {\r\n    \"origin\" : \"C\",\r\n    \"hub\" : \"H\",\r\n    \"destination\" : \"D\",\r\n    \"truckType\" : \"BigTruck\",\r\n    \"quantity\" : 258\r\n  }, {\r\n    \"origin\" : \"C\",\r\n    \"hub\" : \"H\",\r\n    \"destination\" : \"E\",\r\n    \"truckType\" : \"SmallTruck\",\r\n    \"quantity\" : 206\r\n  }, {\r\n    \"origin\" : \"C\",\r\n    \"hub\" : \"H\",\r\n    \"destination\" : \"E\",\r\n    \"truckType\" : \"BigTruck\",\r\n    \"quantity\" : 15\r\n  }, {\r\n    \"origin\" : \"C\",\r\n    \"hub\" : \"H\",\r\n    \"destination\" : \"F\",\r\n    \"truckType\" : \"BigTruck\",\r\n    \"quantity\" : 106\r\n  }, {\r\n    \"origin\" : \"D\",\r\n    \"hub\" : \"H\",\r\n    \"destination\" : \"A\",\r\n    \"truckType\" : \"SmallTruck\",\r\n    \"quantity\" : 75\r\n  }, {\r\n    \"origin\" : \"D\",\r\n    \"hub\" : \"H\",\r\n    \"destination\" : \"B\",\r\n    \"truckType\" : \"SmallTruck\",\r\n    \"quantity\" : 135\r\n  }, {\r\n    \"origin\" : \"D\",\r\n    \"hub\" : \"H\",\r\n    \"destination\" : \"C\",\r\n    \"truckType\" : \"SmallTruck\",\r\n    \"quantity\" : 245\r\n  }, {\r\n    \"origin\" : \"D\",\r\n    \"hub\" : \"H\",\r\n    \"destination\" : \"E\",\r\n    \"truckType\" : \"SmallTruck\",\r\n    \"quantity\" : 283\r\n  }, {\r\n    \"origin\" : \"D\",\r\n    \"hub\" : \"H\",\r\n    \"destination\" : \"F\",\r\n    \"truckType\" : \"SmallTruck\",\r\n    \"quantity\" : 155\r\n  }, {\r\n    \"origin\" : \"E\",\r\n    \"hub\" : \"H\",\r\n    \"destination\" : \"A\",\r\n    \"truckType\" : \"BigTruck\",\r\n    \"quantity\" : 123\r\n  }, {\r\n    \"origin\" : \"E\",\r\n    \"hub\" : \"H\",\r\n    \"destination\" : \"B\",\r\n    \"truckType\" : \"BigTruck\",\r\n    \"quantity\" : 234\r\n  }, {\r\n    \"origin\" : \"E\",\r\n    \"hub\" : \"H\",\r\n    \"destination\" : \"C\",\r\n    \"truckType\" : \"BigTruck\",\r\n    \"quantity\" : 143\r\n  }, {\r\n    \"origin\" : \"E\",\r\n    \"hub\" : \"H\",\r\n    \"destination\" : \"D\",\r\n    \"truckType\" : \"SmallTruck\",\r\n    \"quantity\" : 78\r\n  }, {\r\n    \"origin\" : \"E\",\r\n    \"hub\" : \"H\",\r\n    \"destination\" : \"F\",\r\n    \"truckType\" : \"BigTruck\",\r\n    \"quantity\" : 107\r\n  }, {\r\n    \"origin\" : \"F\",\r\n    \"hub\" : \"H\",\r\n    \"destination\" : \"A\",\r\n    \"truckType\" : \"BigTruck\",\r\n    \"quantity\" : 201\r\n  }, {\r\n    \"origin\" : \"F\",\r\n    \"hub\" : \"H\",\r\n    \"destination\" : \"B\",\r\n    \"truckType\" : \"BigTruck\",\r\n    \"quantity\" : 157\r\n  }, {\r\n    \"origin\" : \"F\",\r\n    \"hub\" : \"H\",\r\n    \"destination\" : \"C\",\r\n    \"truckType\" : \"BigTruck\",\r\n    \"quantity\" : 169\r\n  }, {\r\n    \"origin\" : \"F\",\r\n    \"hub\" : \"H\",\r\n    \"destination\" : \"D\",\r\n    \"truckType\" : \"SmallTruck\",\r\n    \"quantity\" : 143\r\n  }, {\r\n    \"origin\" : \"F\",\r\n    \"hub\" : \"H\",\r\n    \"destination\" : \"D\",\r\n    \"truckType\" : \"BigTruck\",\r\n    \"quantity\" : 69\r\n  }, {\r\n    \"origin\" : \"F\",\r\n    \"hub\" : \"H\",\r\n    \"destination\" : \"E\",\r\n    \"truckType\" : \"BigTruck\",\r\n    \"quantity\" : 104\r\n  } ],\r\n  \"OutVolumeThroughHubOnTruckRes\" : [ {\r\n    \"origin\" : \"A\",\r\n    \"hub\" : \"H\",\r\n    \"destination\" : \"B\",\r\n    \"truckType\" : \"SmallTruck\",\r\n    \"quantity\" : 300\r\n  }, {\r\n    \"origin\" : \"A\",\r\n    \"hub\" : \"H\",\r\n    \"destination\" : \"C\",\r\n    \"truckType\" : \"BigTruck\",\r\n    \"quantity\" : 250\r\n  }, {\r\n    \"origin\" : \"A\",\r\n    \"hub\" : \"H\",\r\n    \"destination\" : \"D\",\r\n    \"truckType\" : \"SmallTruck\",\r\n    \"quantity\" : 350\r\n  }, {\r\n    \"origin\" : \"A\",\r\n    \"hub\" : \"H\",\r\n    \"destination\" : \"E\",\r\n    \"truckType\" : \"BigTruck\",\r\n    \"quantity\" : 145\r\n  }, {\r\n    \"origin\" : \"A\",\r\n    \"hub\" : \"H\",\r\n    \"destination\" : \"F\",\r\n    \"truckType\" : \"BigTruck\",\r\n    \"quantity\" : 300\r\n  }, {\r\n    \"origin\" : \"B\",\r\n    \"hub\" : \"H\",\r\n    \"destination\" : \"A\",\r\n    \"truckType\" : \"BigTruck\",\r\n    \"quantity\" : 185\r\n  }, {\r\n    \"origin\" : \"B\",\r\n    \"hub\" : \"H\",\r\n    \"destination\" : \"C\",\r\n    \"truckType\" : \"SmallTruck\",\r\n    \"quantity\" : 200\r\n  }, {\r\n    \"origin\" : \"B\",\r\n    \"hub\" : \"H\",\r\n    \"destination\" : \"D\",\r\n    \"truckType\" : \"SmallTruck\",\r\n    \"quantity\" : 221\r\n  }, {\r\n    \"origin\" : \"B\",\r\n    \"hub\" : \"H\",\r\n    \"destination\" : \"E\",\r\n    \"truckType\" : \"BigTruck\",\r\n    \"quantity\" : 263\r\n  }, {\r\n    \"origin\" : \"B\",\r\n    \"hub\" : \"H\",\r\n    \"destination\" : \"F\",\r\n    \"truckType\" : \"BigTruck\",\r\n    \"quantity\" : 197\r\n  }, {\r\n    \"origin\" : \"C\",\r\n    \"hub\" : \"H\",\r\n    \"destination\" : \"A\",\r\n    \"truckType\" : \"BigTruck\",\r\n    \"quantity\" : 143\r\n  }, {\r\n    \"origin\" : \"C\",\r\n    \"hub\" : \"H\",\r\n    \"destination\" : \"B\",\r\n    \"truckType\" : \"SmallTruck\",\r\n    \"quantity\" : 4\r\n  }, {\r\n    \"origin\" : \"C\",\r\n    \"hub\" : \"H\",\r\n    \"destination\" : \"B\",\r\n    \"truckType\" : \"BigTruck\",\r\n    \"quantity\" : 174\r\n  }, {\r\n    \"origin\" : \"C\",\r\n    \"hub\" : \"H\",\r\n    \"destination\" : \"D\",\r\n    \"truckType\" : \"SmallTruck\",\r\n    \"quantity\" : 258\r\n  }, {\r\n    \"origin\" : \"C\",\r\n    \"hub\" : \"H\",\r\n    \"destination\" : \"E\",\r\n    \"truckType\" : \"SmallTruck\",\r\n    \"quantity\" : 13\r\n  }, {\r\n    \"origin\" : \"C\",\r\n    \"hub\" : \"H\",\r\n    \"destination\" : \"E\",\r\n    \"truckType\" : \"BigTruck\",\r\n    \"quantity\" : 208\r\n  }, {\r\n    \"origin\" : \"C\",\r\n    \"hub\" : \"H\",\r\n    \"destination\" : \"F\",\r\n    \"truckType\" : \"SmallTruck\",\r\n    \"quantity\" : 59\r\n  }, {\r\n    \"origin\" : \"C\",\r\n    \"hub\" : \"H\",\r\n    \"destination\" : \"F\",\r\n    \"truckType\" : \"BigTruck\",\r\n    \"quantity\" : 47\r\n  }, {\r\n    \"origin\" : \"D\",\r\n    \"hub\" : \"H\",\r\n    \"destination\" : \"A\",\r\n    \"truckType\" : \"BigTruck\",\r\n    \"quantity\" : 75\r\n  }, {\r\n    \"origin\" : \"D\",\r\n    \"hub\" : \"H\",\r\n    \"destination\" : \"B\",\r\n    \"truckType\" : \"BigTruck\",\r\n    \"quantity\" : 135\r\n  }, {\r\n    \"origin\" : \"D\",\r\n    \"hub\" : \"H\",\r\n    \"destination\" : \"C\",\r\n    \"truckType\" : \"BigTruck\",\r\n    \"quantity\" : 245\r\n  }, {\r\n    \"origin\" : \"D\",\r\n    \"hub\" : \"H\",\r\n    \"destination\" : \"E\",\r\n    \"truckType\" : \"SmallTruck\",\r\n    \"quantity\" : 283\r\n  }, {\r\n    \"origin\" : \"D\",\r\n    \"hub\" : \"H\",\r\n    \"destination\" : \"F\",\r\n    \"truckType\" : \"BigTruck\",\r\n    \"quantity\" : 155\r\n  }, {\r\n    \"origin\" : \"E\",\r\n    \"hub\" : \"H\",\r\n    \"destination\" : \"A\",\r\n    \"truckType\" : \"BigTruck\",\r\n    \"quantity\" : 123\r\n  }, {\r\n    \"origin\" : \"E\",\r\n    \"hub\" : \"H\",\r\n    \"destination\" : \"B\",\r\n    \"truckType\" : \"BigTruck\",\r\n    \"quantity\" : 234\r\n  }, {\r\n    \"origin\" : \"E\",\r\n    \"hub\" : \"H\",\r\n    \"destination\" : \"C\",\r\n    \"truckType\" : \"SmallTruck\",\r\n    \"quantity\" : 108\r\n  }, {\r\n    \"origin\" : \"E\",\r\n    \"hub\" : \"H\",\r\n    \"destination\" : \"C\",\r\n    \"truckType\" : \"BigTruck\",\r\n    \"quantity\" : 35\r\n  }, {\r\n    \"origin\" : \"E\",\r\n    \"hub\" : \"H\",\r\n    \"destination\" : \"D\",\r\n    \"truckType\" : \"SmallTruck\",\r\n    \"quantity\" : 78\r\n  }, {\r\n    \"origin\" : \"E\",\r\n    \"hub\" : \"H\",\r\n    \"destination\" : \"F\",\r\n    \"truckType\" : \"SmallTruck\",\r\n    \"quantity\" : 107\r\n  }, {\r\n    \"origin\" : \"F\",\r\n    \"hub\" : \"H\",\r\n    \"destination\" : \"A\",\r\n    \"truckType\" : \"BigTruck\",\r\n    \"quantity\" : 201\r\n  }, {\r\n    \"origin\" : \"F\",\r\n    \"hub\" : \"H\",\r\n    \"destination\" : \"B\",\r\n    \"truckType\" : \"BigTruck\",\r\n    \"quantity\" : 157\r\n  }, {\r\n    \"origin\" : \"F\",\r\n    \"hub\" : \"H\",\r\n    \"destination\" : \"C\",\r\n    \"truckType\" : \"BigTruck\",\r\n    \"quantity\" : 169\r\n  }, {\r\n    \"origin\" : \"F\",\r\n    \"hub\" : \"H\",\r\n    \"destination\" : \"D\",\r\n    \"truckType\" : \"SmallTruck\",\r\n    \"quantity\" : 212\r\n  }, {\r\n    \"origin\" : \"F\",\r\n    \"hub\" : \"H\",\r\n    \"destination\" : \"E\",\r\n    \"truckType\" : \"SmallTruck\",\r\n    \"quantity\" : 104\r\n  } ]\r\n}"
                }
            ], 
            "cell_type": "code", 
            "metadata": {}, 
            "source": "!cat results.json", 
            "execution_count": 8
        }, 
        {
            "outputs": [], 
            "cell_type": "code", 
            "metadata": {
                "collapsed": true
            }, 
            "source": "", 
            "execution_count": null
        }
    ], 
    "metadata": {
        "kernelspec": {
            "display_name": "Python 2 with Spark 2.0", 
            "name": "python2-spark20", 
            "language": "python"
        }, 
        "language_info": {
            "mimetype": "text/x-python", 
            "codemirror_mode": {
                "name": "ipython", 
                "version": 2
            }, 
            "pygments_lexer": "ipython2", 
            "version": "2.7.11", 
            "name": "python", 
            "file_extension": ".py", 
            "nbconvert_exporter": "python"
        }
    }, 
    "nbformat": 4
}