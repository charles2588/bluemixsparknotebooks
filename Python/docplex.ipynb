{
    "metadata": {
        "kernelspec": {
            "name": "python2-spark20", 
            "display_name": "Python 2 with Spark 2.0", 
            "language": "python"
        }, 
        "language_info": {
            "codemirror_mode": {
                "version": 2, 
                "name": "ipython"
            }, 
            "name": "python", 
            "mimetype": "text/x-python", 
            "pygments_lexer": "ipython2", 
            "version": "2.7.11", 
            "file_extension": ".py", 
            "nbconvert_exporter": "python"
        }
    }, 
    "cells": [
        {
            "metadata": {}, 
            "cell_type": "code", 
            "outputs": [
                {
                    "output_type": "stream", 
                    "name": "stdout", 
                    "text": "Collecting docloud\n  Downloading docloud-1.0.257.tar.gz\nRequirement already satisfied: requests in /usr/local/src/bluemix_jupyter_bundle.v59/notebook/lib/python2.7/site-packages (from docloud)\nRequirement already satisfied: six in /usr/local/src/bluemix_jupyter_bundle.v59/notebook/lib/python2.7/site-packages (from docloud)\nRequirement already satisfied: enum34 in /usr/local/src/bluemix_jupyter_bundle.v59/notebook/lib/python2.7/site-packages (from docloud)\nBuilding wheels for collected packages: docloud\n  Running setup.py bdist_wheel for docloud ... \u001b[?25ldone\n\u001b[?25h  Stored in directory: /gpfs/fs01/user/sf08-c5ea89147937e8-2c631c8ff999/.cache/pip/wheels/44/6a/64/6dd62d3d93b8d07d1bb79f054e8d28b38930f6fb5deb2f28dd\nSuccessfully built docloud\nInstalling collected packages: docloud\nSuccessfully installed docloud-1.0.257\n"
                }
            ], 
            "source": "!pip install docloud ", 
            "execution_count": 1
        }, 
        {
            "metadata": {
                "collapsed": true
            }, 
            "cell_type": "code", 
            "outputs": [], 
            "source": "import docloud", 
            "execution_count": 2
        }, 
        {
            "metadata": {}, 
            "cell_type": "code", 
            "outputs": [
                {
                    "ename": "SyntaxError", 
                    "traceback": [
                        "\u001b[0;36m  File \u001b[0;32m\"<ipython-input-3-87563695b2c5>\"\u001b[0;36m, line \u001b[0;32m1\u001b[0m\n\u001b[0;31m    docloud.\u001b[0m\n\u001b[0m            ^\u001b[0m\n\u001b[0;31mSyntaxError\u001b[0m\u001b[0;31m:\u001b[0m invalid syntax\n"
                    ], 
                    "output_type": "error", 
                    "evalue": "invalid syntax (<ipython-input-3-87563695b2c5>, line 1)"
                }
            ], 
            "source": "docloud.", 
            "execution_count": 3
        }, 
        {
            "metadata": {
                "collapsed": true
            }, 
            "cell_type": "code", 
            "outputs": [], 
            "source": "", 
            "execution_count": null
        }
    ], 
    "nbformat_minor": 1, 
    "nbformat": 4
}