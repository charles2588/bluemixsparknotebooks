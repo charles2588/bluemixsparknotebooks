{
 "cells": [
  {
   "cell_type": "code",
   "execution_count": 1,
   "id": "vocational-writing",
   "metadata": {},
   "outputs": [],
   "source": [
    "#Connect to Spark in IBM Analytics Engine using Livy\n",
    "#either set the environment variables export user=\"clsadmin\"\n",
    "#export password=\"XXXXXXX\"\n",
    "#export management_node=\"chs-iqn-242-mn001.us-south.ae.appdomain.cloud\"\n",
    "#or modify the conf/config.json file."
   ]
  },
  {
   "cell_type": "code",
   "execution_count": 2,
   "id": "legislative-console",
   "metadata": {},
   "outputs": [
    {
     "name": "stdout",
     "output_type": "stream",
     "text": [
      "Requirement already satisfied: sparkmagic in /opt/anaconda3/envs/iaejnbg/lib/python3.7/site-packages (0.17.1)\n",
      "Requirement already satisfied: nose in /opt/anaconda3/envs/iaejnbg/lib/python3.7/site-packages (from sparkmagic) (1.3.7)\n",
      "Requirement already satisfied: requests-kerberos>=0.8.0 in /opt/anaconda3/envs/iaejnbg/lib/python3.7/site-packages (from sparkmagic) (0.12.0)\n",
      "Requirement already satisfied: ipykernel in /opt/anaconda3/envs/iaejnbg/lib/python3.7/site-packages (from sparkmagic) (5.4.3)\n",
      "Requirement already satisfied: notebook>=4.2 in /opt/anaconda3/envs/iaejnbg/lib/python3.7/site-packages (from sparkmagic) (6.2.0)\n",
      "Requirement already satisfied: mock in /opt/anaconda3/envs/iaejnbg/lib/python3.7/site-packages (from sparkmagic) (4.0.3)\n",
      "Requirement already satisfied: hdijupyterutils>=0.6 in /opt/anaconda3/envs/iaejnbg/lib/python3.7/site-packages (from sparkmagic) (0.17.1)\n",
      "Requirement already satisfied: requests in /opt/anaconda3/envs/iaejnbg/lib/python3.7/site-packages (from sparkmagic) (2.25.1)\n",
      "Requirement already satisfied: ipython>=4.0.2 in /opt/anaconda3/envs/iaejnbg/lib/python3.7/site-packages (from sparkmagic) (7.19.0)\n",
      "Requirement already satisfied: numpy in /opt/anaconda3/envs/iaejnbg/lib/python3.7/site-packages (from sparkmagic) (1.19.5)\n",
      "Requirement already satisfied: ipywidgets>5.0.0 in /opt/anaconda3/envs/iaejnbg/lib/python3.7/site-packages (from sparkmagic) (7.6.3)\n",
      "Requirement already satisfied: tornado>=4 in /opt/anaconda3/envs/iaejnbg/lib/python3.7/site-packages (from sparkmagic) (6.1)\n",
      "Requirement already satisfied: pandas>=0.17.1 in /opt/anaconda3/envs/iaejnbg/lib/python3.7/site-packages (from sparkmagic) (1.2.1)\n",
      "Requirement already satisfied: autovizwidget>=0.6 in /opt/anaconda3/envs/iaejnbg/lib/python3.7/site-packages (from sparkmagic) (0.17.1)\n",
      "Requirement already satisfied: plotly>=3 in /opt/anaconda3/envs/iaejnbg/lib/python3.7/site-packages (from autovizwidget>=0.6->sparkmagic) (4.14.3)\n",
      "Requirement already satisfied: jupyter>=1 in /opt/anaconda3/envs/iaejnbg/lib/python3.7/site-packages (from hdijupyterutils>=0.6->sparkmagic) (1.0.0)\n",
      "Requirement already satisfied: jupyter-client in /opt/anaconda3/envs/iaejnbg/lib/python3.7/site-packages (from ipykernel->sparkmagic) (6.1.11)\n",
      "Requirement already satisfied: traitlets>=4.1.0 in /opt/anaconda3/envs/iaejnbg/lib/python3.7/site-packages (from ipykernel->sparkmagic) (5.0.5)\n",
      "Requirement already satisfied: appnope in /opt/anaconda3/envs/iaejnbg/lib/python3.7/site-packages (from ipykernel->sparkmagic) (0.1.2)\n",
      "Requirement already satisfied: decorator in /opt/anaconda3/envs/iaejnbg/lib/python3.7/site-packages (from ipython>=4.0.2->sparkmagic) (4.4.2)\n",
      "Requirement already satisfied: prompt-toolkit!=3.0.0,!=3.0.1,<3.1.0,>=2.0.0 in /opt/anaconda3/envs/iaejnbg/lib/python3.7/site-packages (from ipython>=4.0.2->sparkmagic) (3.0.14)\n",
      "Requirement already satisfied: backcall in /opt/anaconda3/envs/iaejnbg/lib/python3.7/site-packages (from ipython>=4.0.2->sparkmagic) (0.2.0)\n",
      "Requirement already satisfied: pygments in /opt/anaconda3/envs/iaejnbg/lib/python3.7/site-packages (from ipython>=4.0.2->sparkmagic) (2.7.4)\n",
      "Requirement already satisfied: pickleshare in /opt/anaconda3/envs/iaejnbg/lib/python3.7/site-packages (from ipython>=4.0.2->sparkmagic) (0.7.5)\n",
      "Requirement already satisfied: jedi>=0.10 in /opt/anaconda3/envs/iaejnbg/lib/python3.7/site-packages (from ipython>=4.0.2->sparkmagic) (0.18.0)\n",
      "Requirement already satisfied: setuptools>=18.5 in /opt/anaconda3/envs/iaejnbg/lib/python3.7/site-packages (from ipython>=4.0.2->sparkmagic) (52.0.0.post20210125)\n",
      "Requirement already satisfied: pexpect>4.3 in /opt/anaconda3/envs/iaejnbg/lib/python3.7/site-packages (from ipython>=4.0.2->sparkmagic) (4.8.0)\n",
      "Requirement already satisfied: widgetsnbextension~=3.5.0 in /opt/anaconda3/envs/iaejnbg/lib/python3.7/site-packages (from ipywidgets>5.0.0->sparkmagic) (3.5.1)\n",
      "Requirement already satisfied: nbformat>=4.2.0 in /opt/anaconda3/envs/iaejnbg/lib/python3.7/site-packages (from ipywidgets>5.0.0->sparkmagic) (5.1.2)\n",
      "Requirement already satisfied: jupyterlab-widgets>=1.0.0 in /opt/anaconda3/envs/iaejnbg/lib/python3.7/site-packages (from ipywidgets>5.0.0->sparkmagic) (1.0.0)\n",
      "Requirement already satisfied: parso<0.9.0,>=0.8.0 in /opt/anaconda3/envs/iaejnbg/lib/python3.7/site-packages (from jedi>=0.10->ipython>=4.0.2->sparkmagic) (0.8.1)\n",
      "Requirement already satisfied: jupyter-console in /opt/anaconda3/envs/iaejnbg/lib/python3.7/site-packages (from jupyter>=1->hdijupyterutils>=0.6->sparkmagic) (6.2.0)\n",
      "Requirement already satisfied: qtconsole in /opt/anaconda3/envs/iaejnbg/lib/python3.7/site-packages (from jupyter>=1->hdijupyterutils>=0.6->sparkmagic) (5.0.2)\n",
      "Requirement already satisfied: nbconvert in /opt/anaconda3/envs/iaejnbg/lib/python3.7/site-packages (from jupyter>=1->hdijupyterutils>=0.6->sparkmagic) (6.0.7)\n",
      "Requirement already satisfied: jupyter-core in /opt/anaconda3/envs/iaejnbg/lib/python3.7/site-packages (from nbformat>=4.2.0->ipywidgets>5.0.0->sparkmagic) (4.7.0)\n",
      "Requirement already satisfied: jsonschema!=2.5.0,>=2.4 in /opt/anaconda3/envs/iaejnbg/lib/python3.7/site-packages (from nbformat>=4.2.0->ipywidgets>5.0.0->sparkmagic) (3.2.0)\n",
      "Requirement already satisfied: ipython-genutils in /opt/anaconda3/envs/iaejnbg/lib/python3.7/site-packages (from nbformat>=4.2.0->ipywidgets>5.0.0->sparkmagic) (0.2.0)\n",
      "Requirement already satisfied: pyrsistent>=0.14.0 in /opt/anaconda3/envs/iaejnbg/lib/python3.7/site-packages (from jsonschema!=2.5.0,>=2.4->nbformat>=4.2.0->ipywidgets>5.0.0->sparkmagic) (0.17.3)\n",
      "Requirement already satisfied: attrs>=17.4.0 in /opt/anaconda3/envs/iaejnbg/lib/python3.7/site-packages (from jsonschema!=2.5.0,>=2.4->nbformat>=4.2.0->ipywidgets>5.0.0->sparkmagic) (20.3.0)\n",
      "Requirement already satisfied: six>=1.11.0 in /opt/anaconda3/envs/iaejnbg/lib/python3.7/site-packages (from jsonschema!=2.5.0,>=2.4->nbformat>=4.2.0->ipywidgets>5.0.0->sparkmagic) (1.15.0)\n",
      "Requirement already satisfied: importlib-metadata in /opt/anaconda3/envs/iaejnbg/lib/python3.7/site-packages (from jsonschema!=2.5.0,>=2.4->nbformat>=4.2.0->ipywidgets>5.0.0->sparkmagic) (3.4.0)\n",
      "Requirement already satisfied: pyzmq>=17 in /opt/anaconda3/envs/iaejnbg/lib/python3.7/site-packages (from notebook>=4.2->sparkmagic) (21.0.2)\n",
      "Requirement already satisfied: argon2-cffi in /opt/anaconda3/envs/iaejnbg/lib/python3.7/site-packages (from notebook>=4.2->sparkmagic) (20.1.0)\n",
      "Requirement already satisfied: terminado>=0.8.3 in /opt/anaconda3/envs/iaejnbg/lib/python3.7/site-packages (from notebook>=4.2->sparkmagic) (0.9.2)\n",
      "Requirement already satisfied: jinja2 in /opt/anaconda3/envs/iaejnbg/lib/python3.7/site-packages (from notebook>=4.2->sparkmagic) (2.11.2)\n",
      "Requirement already satisfied: Send2Trash>=1.5.0 in /opt/anaconda3/envs/iaejnbg/lib/python3.7/site-packages (from notebook>=4.2->sparkmagic) (1.5.0)\n",
      "Requirement already satisfied: prometheus-client in /opt/anaconda3/envs/iaejnbg/lib/python3.7/site-packages (from notebook>=4.2->sparkmagic) (0.9.0)\n",
      "Requirement already satisfied: python-dateutil>=2.1 in /opt/anaconda3/envs/iaejnbg/lib/python3.7/site-packages (from jupyter-client->ipykernel->sparkmagic) (2.8.1)\n",
      "Requirement already satisfied: pytz>=2017.3 in /opt/anaconda3/envs/iaejnbg/lib/python3.7/site-packages (from pandas>=0.17.1->sparkmagic) (2020.5)\n",
      "Requirement already satisfied: ptyprocess>=0.5 in /opt/anaconda3/envs/iaejnbg/lib/python3.7/site-packages (from pexpect>4.3->ipython>=4.0.2->sparkmagic) (0.7.0)\n",
      "Requirement already satisfied: retrying>=1.3.3 in /opt/anaconda3/envs/iaejnbg/lib/python3.7/site-packages (from plotly>=3->autovizwidget>=0.6->sparkmagic) (1.3.3)\n",
      "Requirement already satisfied: wcwidth in /opt/anaconda3/envs/iaejnbg/lib/python3.7/site-packages (from prompt-toolkit!=3.0.0,!=3.0.1,<3.1.0,>=2.0.0->ipython>=4.0.2->sparkmagic) (0.2.5)\n",
      "Requirement already satisfied: cryptography>=1.3 in /opt/anaconda3/envs/iaejnbg/lib/python3.7/site-packages (from requests-kerberos>=0.8.0->sparkmagic) (3.3.1)\n",
      "Requirement already satisfied: pykerberos<2.0.0,>=1.1.8 in /opt/anaconda3/envs/iaejnbg/lib/python3.7/site-packages (from requests-kerberos>=0.8.0->sparkmagic) (1.2.1)\n",
      "Requirement already satisfied: cffi>=1.12 in /opt/anaconda3/envs/iaejnbg/lib/python3.7/site-packages (from cryptography>=1.3->requests-kerberos>=0.8.0->sparkmagic) (1.14.4)\n",
      "Requirement already satisfied: pycparser in /opt/anaconda3/envs/iaejnbg/lib/python3.7/site-packages (from cffi>=1.12->cryptography>=1.3->requests-kerberos>=0.8.0->sparkmagic) (2.20)\n"
     ]
    },
    {
     "name": "stdout",
     "output_type": "stream",
     "text": [
      "Requirement already satisfied: certifi>=2017.4.17 in /opt/anaconda3/envs/iaejnbg/lib/python3.7/site-packages (from requests->sparkmagic) (2020.12.5)\n",
      "Requirement already satisfied: chardet<5,>=3.0.2 in /opt/anaconda3/envs/iaejnbg/lib/python3.7/site-packages (from requests->sparkmagic) (4.0.0)\n",
      "Requirement already satisfied: urllib3<1.27,>=1.21.1 in /opt/anaconda3/envs/iaejnbg/lib/python3.7/site-packages (from requests->sparkmagic) (1.26.3)\n",
      "Requirement already satisfied: idna<3,>=2.5 in /opt/anaconda3/envs/iaejnbg/lib/python3.7/site-packages (from requests->sparkmagic) (2.10)\n",
      "Requirement already satisfied: zipp>=0.5 in /opt/anaconda3/envs/iaejnbg/lib/python3.7/site-packages (from importlib-metadata->jsonschema!=2.5.0,>=2.4->nbformat>=4.2.0->ipywidgets>5.0.0->sparkmagic) (3.4.0)\n",
      "Requirement already satisfied: typing-extensions>=3.6.4 in /opt/anaconda3/envs/iaejnbg/lib/python3.7/site-packages (from importlib-metadata->jsonschema!=2.5.0,>=2.4->nbformat>=4.2.0->ipywidgets>5.0.0->sparkmagic) (3.7.4.3)\n",
      "Requirement already satisfied: MarkupSafe>=0.23 in /opt/anaconda3/envs/iaejnbg/lib/python3.7/site-packages (from jinja2->notebook>=4.2->sparkmagic) (1.1.1)\n",
      "Requirement already satisfied: nbclient<0.6.0,>=0.5.0 in /opt/anaconda3/envs/iaejnbg/lib/python3.7/site-packages (from nbconvert->jupyter>=1->hdijupyterutils>=0.6->sparkmagic) (0.5.1)\n",
      "Requirement already satisfied: bleach in /opt/anaconda3/envs/iaejnbg/lib/python3.7/site-packages (from nbconvert->jupyter>=1->hdijupyterutils>=0.6->sparkmagic) (3.2.3)\n",
      "Requirement already satisfied: jupyterlab-pygments in /opt/anaconda3/envs/iaejnbg/lib/python3.7/site-packages (from nbconvert->jupyter>=1->hdijupyterutils>=0.6->sparkmagic) (0.1.2)\n",
      "Requirement already satisfied: pandocfilters>=1.4.1 in /opt/anaconda3/envs/iaejnbg/lib/python3.7/site-packages (from nbconvert->jupyter>=1->hdijupyterutils>=0.6->sparkmagic) (1.4.3)\n",
      "Requirement already satisfied: entrypoints>=0.2.2 in /opt/anaconda3/envs/iaejnbg/lib/python3.7/site-packages (from nbconvert->jupyter>=1->hdijupyterutils>=0.6->sparkmagic) (0.3)\n",
      "Requirement already satisfied: mistune<2,>=0.8.1 in /opt/anaconda3/envs/iaejnbg/lib/python3.7/site-packages (from nbconvert->jupyter>=1->hdijupyterutils>=0.6->sparkmagic) (0.8.4)\n",
      "Requirement already satisfied: testpath in /opt/anaconda3/envs/iaejnbg/lib/python3.7/site-packages (from nbconvert->jupyter>=1->hdijupyterutils>=0.6->sparkmagic) (0.4.4)\n",
      "Requirement already satisfied: defusedxml in /opt/anaconda3/envs/iaejnbg/lib/python3.7/site-packages (from nbconvert->jupyter>=1->hdijupyterutils>=0.6->sparkmagic) (0.6.0)\n",
      "Requirement already satisfied: async-generator in /opt/anaconda3/envs/iaejnbg/lib/python3.7/site-packages (from nbclient<0.6.0,>=0.5.0->nbconvert->jupyter>=1->hdijupyterutils>=0.6->sparkmagic) (1.10)\n",
      "Requirement already satisfied: nest-asyncio in /opt/anaconda3/envs/iaejnbg/lib/python3.7/site-packages (from nbclient<0.6.0,>=0.5.0->nbconvert->jupyter>=1->hdijupyterutils>=0.6->sparkmagic) (1.4.3)\n",
      "Requirement already satisfied: packaging in /opt/anaconda3/envs/iaejnbg/lib/python3.7/site-packages (from bleach->nbconvert->jupyter>=1->hdijupyterutils>=0.6->sparkmagic) (20.8)\n",
      "Requirement already satisfied: webencodings in /opt/anaconda3/envs/iaejnbg/lib/python3.7/site-packages (from bleach->nbconvert->jupyter>=1->hdijupyterutils>=0.6->sparkmagic) (0.5.1)\n",
      "Requirement already satisfied: pyparsing>=2.0.2 in /opt/anaconda3/envs/iaejnbg/lib/python3.7/site-packages (from packaging->bleach->nbconvert->jupyter>=1->hdijupyterutils>=0.6->sparkmagic) (2.4.7)\n",
      "Requirement already satisfied: qtpy in /opt/anaconda3/envs/iaejnbg/lib/python3.7/site-packages (from qtconsole->jupyter>=1->hdijupyterutils>=0.6->sparkmagic) (1.9.0)\n"
     ]
    }
   ],
   "source": [
    "!pip install sparkmagic"
   ]
  },
  {
   "cell_type": "code",
   "execution_count": 3,
   "id": "spread-testing",
   "metadata": {},
   "outputs": [],
   "source": [
    "%reload_ext sparkmagic.magics"
   ]
  },
  {
   "cell_type": "code",
   "execution_count": 4,
   "id": "veterinary-dependence",
   "metadata": {},
   "outputs": [],
   "source": [
    "#read config\n",
    "import json,os\n",
    "with open('conf/config.json', 'r') as f:\n",
    "    config = json.load(f) "
   ]
  },
  {
   "cell_type": "code",
   "execution_count": 6,
   "id": "seasonal-giving",
   "metadata": {},
   "outputs": [
    {
     "name": "stdout",
     "output_type": "stream",
     "text": [
      "Livy URL: https://chs-iqn-242-mn001.us-south.ae.appdomain.cloud:8443/gateway/default/livy/v1/\n"
     ]
    }
   ],
   "source": [
    "# Read IAE configuration. You would need to get this from IAE service from Cloud dashboard or using api.\n",
    "if os.environ.get('user') is not None: \n",
    "    user = os.environ.get('user')\n",
    "else:\n",
    "    user = config[\"user\"]\n",
    "if os.environ.get('management_node') is not None: \n",
    "    management_node = os.environ.get('management_node')\n",
    "else:\n",
    "    management_node = config[\"management_node\"]\n",
    "if os.environ.get('password') is not None: \n",
    "    password = os.environ.get('password')\n",
    "else:\n",
    "    password = config[\"password\"]\n",
    "\n",
    "iae_livy_url = f\"https://{management_node}:8443/gateway/default/livy/v1/\"\n",
    "\n",
    "print(f\"Livy URL: {iae_livy_url}\")"
   ]
  },
  {
   "cell_type": "code",
   "execution_count": 7,
   "id": "polyphonic-melbourne",
   "metadata": {},
   "outputs": [],
   "source": [
    "import uuid\n",
    "session_id = uuid.uuid1()"
   ]
  },
  {
   "cell_type": "code",
   "execution_count": 8,
   "id": "colored-trance",
   "metadata": {},
   "outputs": [],
   "source": [
    "session_name = str(session_id)"
   ]
  },
  {
   "cell_type": "code",
   "execution_count": 9,
   "id": "thermal-moderator",
   "metadata": {},
   "outputs": [],
   "source": [
    "# You will get following error if you have not specified the following custom_header as indicated by https://cloud.ibm.com/docs/AnalyticsEngine?topic=AnalyticsEngine-livy-api\n",
    "#{\n",
    "#\"custom_headers\": {\"X-Requested-By\": \"livy\"}\n",
    "#}\n",
    "#%spark add -s {session_name} -l python -u {iae_livy_url} --auth Basic_Access -a {user} -p {password}"
   ]
  },
  {
   "cell_type": "code",
   "execution_count": 10,
   "id": "medieval-paris",
   "metadata": {},
   "outputs": [],
   "source": [
    "# Edit this file ~/.sparkmagic/config.json as indicated by https://github.com/jupyter-incubator/sparkmagic#using-a-custom-authenticator-with-sparkmagic"
   ]
  },
  {
   "cell_type": "code",
   "execution_count": 11,
   "id": "infrared-monitoring",
   "metadata": {},
   "outputs": [
    {
     "name": "stdout",
     "output_type": "stream",
     "text": [
      "Starting Spark application\n"
     ]
    },
    {
     "data": {
      "text/html": [
       "<table>\n",
       "<tr><th>ID</th><th>YARN Application ID</th><th>Kind</th><th>State</th><th>Spark UI</th><th>Driver log</th><th>Current session?</th></tr><tr><td>1</td><td>application_1609822106348_0018</td><td>pyspark</td><td>idle</td><td><a target=\"_blank\" href=\"http://chs-iqn-242-mn002.us-south.ae.appdomain.cloud:8088/proxy/application_1609822106348_0018/\">Link</a></td><td><a target=\"_blank\" href=\"http://chs-iqn-242-dn001.us-south.ae.appdomain.cloud:8042/node/containerlogs/container_e03_1609822106348_0018_01_000001/clsadmin\">Link</a></td><td>✔</td></tr></table>"
      ],
      "text/plain": [
       "<IPython.core.display.HTML object>"
      ]
     },
     "metadata": {},
     "output_type": "display_data"
    },
    {
     "data": {
      "application/vnd.jupyter.widget-view+json": {
       "model_id": "",
       "version_major": 2,
       "version_minor": 0
      },
      "text/plain": [
       "FloatProgress(value=0.0, bar_style='info', description='Progress:', layout=Layout(height='25px', width='50%'),…"
      ]
     },
     "metadata": {},
     "output_type": "display_data"
    },
    {
     "name": "stdout",
     "output_type": "stream",
     "text": [
      "SparkSession available as 'spark'.\n"
     ]
    }
   ],
   "source": [
    "%spark add -s {session_name} -l python -u {iae_livy_url} --auth Basic_Access -a {user} -p {password}"
   ]
  },
  {
   "cell_type": "code",
   "execution_count": 13,
   "id": "dedicated-invention",
   "metadata": {},
   "outputs": [
    {
     "data": {
      "application/vnd.jupyter.widget-view+json": {
       "model_id": "",
       "version_major": 2,
       "version_minor": 0
      },
      "text/plain": [
       "FloatProgress(value=0.0, bar_style='info', description='Progress:', layout=Layout(height='25px', width='50%'),…"
      ]
     },
     "metadata": {},
     "output_type": "display_data"
    },
    {
     "name": "stdout",
     "output_type": "stream",
     "text": [
      "Count of numbers :-  4"
     ]
    }
   ],
   "source": [
    "%%spark\n",
    "numbers_rdd = sc.parallelize([1, 2, 3, 4])\n",
    "print(\"Count of numbers :- \", numbers_rdd.count())"
   ]
  },
  {
   "cell_type": "code",
   "execution_count": 14,
   "id": "raising-reliance",
   "metadata": {},
   "outputs": [],
   "source": [
    "#More examples\n",
    "# https://github.com/jupyter-incubator/sparkmagic/blob/master/examples/Magics%20in%20IPython%20Kernel.ipynb"
   ]
  },
  {
   "cell_type": "code",
   "execution_count": 15,
   "id": "rational-basketball",
   "metadata": {},
   "outputs": [
    {
     "name": "stdout",
     "output_type": "stream",
     "text": [
      "stdout: \n",
      "\n",
      "stderr: \n",
      "SLF4J: Class path contains multiple SLF4J bindings.\n",
      "SLF4J: Found binding in [jar:file:/usr/hdp/3.1.5.0-152/spark2/jars/slf4j-log4j12-1.7.16.jar!/org/slf4j/impl/StaticLoggerBinder.class]\n",
      "SLF4J: Found binding in [jar:file:/home/common/lib/scala/common/tika-app-1.16.jar!/org/slf4j/impl/StaticLoggerBinder.class]\n",
      "SLF4J: See http://www.slf4j.org/codes.html#multiple_bindings for an explanation.\n",
      "SLF4J: Actual binding is of type [org.slf4j.impl.Log4jLoggerFactory]\n",
      "Warning: Ignoring non-spark config property: hive.metastore.uris=thrift://chs-iqn-242-mn002.us-south.ae.appdomain.cloud:9083\n",
      "21/01/27 19:11:18 WARN NativeCodeLoader: Unable to load native-hadoop library for your platform... using builtin-java classes where applicable\n",
      "Warning: Master yarn-cluster is deprecated since 2.0. Please use master \"yarn\" with specified deploy mode instead.\n",
      "21/01/27 19:11:20 WARN DomainSocketFactory: The short-circuit local reads feature cannot be used because libhadoop cannot be loaded.\n",
      "21/01/27 19:11:20 INFO RMProxy: Connecting to ResourceManager at chs-iqn-242-mn002.us-south.ae.appdomain.cloud/172.16.176.132:8050\n",
      "21/01/27 19:11:21 INFO Client: Requesting a new application from cluster with 1 NodeManagers\n",
      "21/01/27 19:11:21 INFO Configuration: found resource resource-types.xml at file:/etc/hadoop/3.1.5.0-152/0/resource-types.xml\n",
      "21/01/27 19:11:21 INFO Client: Verifying our application has not requested more than the maximum memory capability of the cluster (14336 MB per container)\n",
      "21/01/27 19:11:21 INFO Client: Will allocate AM container, with 1408 MB memory including 384 MB overhead\n",
      "21/01/27 19:11:21 INFO Client: Setting up container launch context for our AM\n",
      "21/01/27 19:11:21 INFO Client: Setting up the launch environment for our AM container\n",
      "21/01/27 19:11:21 INFO Client: Preparing resources for our AM container\n",
      "21/01/27 19:11:23 INFO Client: Use hdfs cache file as spark.yarn.archive for HDP, hdfsCacheFile:hdfs://chs-iqn-242-mn002.us-south.ae.appdomain.cloud:8020/hdp/apps/3.1.5.0-152/spark2/spark2-hdp-yarn-archive.tar.gz\n",
      "21/01/27 19:11:23 INFO Client: Source and destination file systems are the same. Not copying hdfs://chs-iqn-242-mn002.us-south.ae.appdomain.cloud:8020/hdp/apps/3.1.5.0-152/spark2/spark2-hdp-yarn-archive.tar.gz\n",
      "21/01/27 19:11:24 INFO Client: Distribute hdfs cache file as spark.sql.hive.metastore.jars for HDP, hdfsCacheFile:hdfs://chs-iqn-242-mn002.us-south.ae.appdomain.cloud:8020/hdp/apps/3.1.5.0-152/spark2/spark2-hdp-hive-archive.tar.gz\n",
      "21/01/27 19:11:24 INFO Client: Source and destination file systems are the same. Not copying hdfs://chs-iqn-242-mn002.us-south.ae.appdomain.cloud:8020/hdp/apps/3.1.5.0-152/spark2/spark2-hdp-hive-archive.tar.gz\n",
      "21/01/27 19:11:24 INFO Client: Uploading resource file:/usr/hdp/current/livy2-server/rsc-jars/netty-all-4.1.42.Final.jar -> hdfs://chs-iqn-242-mn002.us-south.ae.appdomain.cloud:8020/user/clsadmin/.sparkStaging/application_1609822106348_0018/netty-all-4.1.42.Final.jar\n",
      "21/01/27 19:11:24 INFO Client: Uploading resource file:/usr/hdp/current/livy2-server/rsc-jars/livy-api-0.5.0.3.1.5.0-152.jar -> hdfs://chs-iqn-242-mn002.us-south.ae.appdomain.cloud:8020/user/clsadmin/.sparkStaging/application_1609822106348_0018/livy-api-0.5.0.3.1.5.0-152.jar\n",
      "21/01/27 19:11:24 INFO Client: Uploading resource file:/usr/hdp/current/livy2-server/rsc-jars/livy-rsc-0.5.0.3.1.5.0-152.jar -> hdfs://chs-iqn-242-mn002.us-south.ae.appdomain.cloud:8020/user/clsadmin/.sparkStaging/application_1609822106348_0018/livy-rsc-0.5.0.3.1.5.0-152.jar\n",
      "21/01/27 19:11:24 INFO Client: Uploading resource file:/usr/hdp/current/livy2-server/repl_2.11-jars/livy-core_2.11-0.5.0.3.1.5.0-152.jar -> hdfs://chs-iqn-242-mn002.us-south.ae.appdomain.cloud:8020/user/clsadmin/.sparkStaging/application_1609822106348_0018/livy-core_2.11-0.5.0.3.1.5.0-152.jar\n",
      "21/01/27 19:11:25 INFO Client: Uploading resource file:/usr/hdp/current/livy2-server/repl_2.11-jars/livy-repl_2.11-0.5.0.3.1.5.0-152.jar -> hdfs://chs-iqn-242-mn002.us-south.ae.appdomain.cloud:8020/user/clsadmin/.sparkStaging/application_1609822106348_0018/livy-repl_2.11-0.5.0.3.1.5.0-152.jar\n",
      "21/01/27 19:11:25 INFO Client: Uploading resource file:/usr/hdp/current/livy2-server/repl_2.11-jars/commons-codec-1.9.jar -> hdfs://chs-iqn-242-mn002.us-south.ae.appdomain.cloud:8020/user/clsadmin/.sparkStaging/application_1609822106348_0018/commons-codec-1.9.jar\n",
      "21/01/27 19:11:25 INFO Client: Uploading resource file:/usr/hdp/current/spark2-client/jars/datanucleus-rdbms-4.1.7.jar -> hdfs://chs-iqn-242-mn002.us-south.ae.appdomain.cloud:8020/user/clsadmin/.sparkStaging/application_1609822106348_0018/datanucleus-rdbms-4.1.7.jar\n",
      "21/01/27 19:11:26 INFO Client: Uploading resource file:/usr/hdp/current/spark2-client/jars/datanucleus-core-4.1.6.jar -> hdfs://chs-iqn-242-mn002.us-south.ae.appdomain.cloud:8020/user/clsadmin/.sparkStaging/application_1609822106348_0018/datanucleus-core-4.1.6.jar\n",
      "21/01/27 19:11:26 INFO Client: Uploading resource file:/usr/hdp/current/spark2-client/jars/datanucleus-api-jdo-4.2.1.jar -> hdfs://chs-iqn-242-mn002.us-south.ae.appdomain.cloud:8020/user/clsadmin/.sparkStaging/application_1609822106348_0018/datanucleus-api-jdo-4.2.1.jar\n",
      "21/01/27 19:11:26 INFO Client: Uploading resource file:/etc/spark2/3.1.5.0-152/0/hive-site.xml -> hdfs://chs-iqn-242-mn002.us-south.ae.appdomain.cloud:8020/user/clsadmin/.sparkStaging/application_1609822106348_0018/hive-site.xml\n",
      "21/01/27 19:11:26 INFO Client: Uploading resource file:/usr/hdp/current/spark2-client/R/lib/sparkr.zip#sparkr -> hdfs://chs-iqn-242-mn002.us-south.ae.appdomain.cloud:8020/user/clsadmin/.sparkStaging/application_1609822106348_0018/sparkr.zip\n",
      "21/01/27 19:11:26 INFO Client: Uploading resource file:/usr/hdp/current/spark2-client/python/lib/pyspark.zip -> hdfs://chs-iqn-242-mn002.us-south.ae.appdomain.cloud:8020/user/clsadmin/.sparkStaging/application_1609822106348_0018/pyspark.zip\n",
      "21/01/27 19:11:26 INFO Client: Uploading resource file:/usr/hdp/current/spark2-client/python/lib/py4j-0.10.7-src.zip -> hdfs://chs-iqn-242-mn002.us-south.ae.appdomain.cloud:8020/user/clsadmin/.sparkStaging/application_1609822106348_0018/py4j-0.10.7-src.zip\n",
      "21/01/27 19:11:26 WARN Client: Same name resource file:///usr/hdp/current/spark2-client/python/lib/pyspark.zip added multiple times to distributed cache\n",
      "21/01/27 19:11:26 WARN Client: Same name resource file:///usr/hdp/current/spark2-client/python/lib/py4j-0.10.7-src.zip added multiple times to distributed cache\n",
      "21/01/27 19:11:26 INFO Client: Uploading resource file:/tmp/spark-bce7ee13-d113-44a9-babc-f99ae4bedb0f/__spark_conf__7279339981527538755.zip -> hdfs://chs-iqn-242-mn002.us-south.ae.appdomain.cloud:8020/user/clsadmin/.sparkStaging/application_1609822106348_0018/__spark_conf__.zip\n",
      "21/01/27 19:11:27 INFO SecurityManager: Changing view acls to: livy,clsadmin\n",
      "21/01/27 19:11:27 INFO SecurityManager: Changing modify acls to: livy,clsadmin\n",
      "21/01/27 19:11:27 INFO SecurityManager: Changing view acls groups to: \n",
      "21/01/27 19:11:27 INFO SecurityManager: Changing modify acls groups to: \n",
      "21/01/27 19:11:27 INFO SecurityManager: SecurityManager: authentication disabled; ui acls disabled; users  with view permissions: Set(livy, clsadmin); groups with view permissions: Set(); users  with modify permissions: Set(livy, clsadmin); groups with modify permissions: Set()\n",
      "21/01/27 19:11:27 INFO Client: Submitting application application_1609822106348_0018 to ResourceManager\n",
      "21/01/27 19:11:27 INFO YarnClientImpl: Submitted application application_1609822106348_0018\n",
      "21/01/27 19:11:27 INFO Client: Application report for application_1609822106348_0018 (state: ACCEPTED)\n",
      "21/01/27 19:11:27 INFO Client: \n",
      "\t client token: N/A\n",
      "\t diagnostics: AM container is launched, waiting for AM container to Register with RM\n",
      "\t ApplicationMaster host: N/A\n",
      "\t ApplicationMaster RPC port: -1\n",
      "\t queue: default\n",
      "\t start time: 1611774687242\n",
      "\t final status: UNDEFINED\n",
      "\t tracking URL: http://chs-iqn-242-mn002.us-south.ae.appdomain.cloud:8088/proxy/application_1609822106348_0018/\n",
      "\t user: clsadmin\n",
      "21/01/27 19:11:27 INFO ShutdownHookManager: Shutdown hook called\n",
      "21/01/27 19:11:27 INFO ShutdownHookManager: Deleting directory /tmp/spark-b1cb798f-4379-46d8-ad4d-103ae4e03711\n",
      "21/01/27 19:11:27 INFO ShutdownHookManager: Deleting directory /tmp/spark-bce7ee13-d113-44a9-babc-f99ae4bedb0f\n",
      "\n",
      "YARN Diagnostics: "
     ]
    }
   ],
   "source": [
    "#To get logs\n",
    "%spark logs"
   ]
  },
  {
   "cell_type": "code",
   "execution_count": null,
   "id": "lovely-bones",
   "metadata": {},
   "outputs": [],
   "source": []
  }
 ],
 "metadata": {
  "kernelspec": {
   "display_name": "Python 3",
   "language": "python",
   "name": "python3"
  },
  "language_info": {
   "codemirror_mode": {
    "name": "ipython",
    "version": 3
   },
   "file_extension": ".py",
   "mimetype": "text/x-python",
   "name": "python",
   "nbconvert_exporter": "python",
   "pygments_lexer": "ipython3",
   "version": "3.7.9"
  }
 },
 "nbformat": 4,
 "nbformat_minor": 5
}
